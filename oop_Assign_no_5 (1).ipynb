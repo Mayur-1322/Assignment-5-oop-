{
  "nbformat": 4,
  "nbformat_minor": 0,
  "metadata": {
    "colab": {
      "provenance": []
    },
    "kernelspec": {
      "name": "python3",
      "display_name": "Python 3"
    },
    "language_info": {
      "name": "python"
    }
  },
  "cells": [
    {
      "cell_type": "markdown",
      "source": [
        "ASSIGNMENT NO- 5 **(OBJECT ORIENTED PROFRAMMING)**\n",
        "\n",
        "\n",
        "\n",
        "\n",
        "\n",
        "\n"
      ],
      "metadata": {
        "id": "NzwHdgQG0tVc"
      }
    },
    {
      "cell_type": "markdown",
      "source": [
        "1. What are the five key concepts of Object-Oriented Programming (OOP)?\n",
        "\n",
        "**Encapsulation**: Encapsulation also restricts direct access to some of an object’s components, which is important for hiding the internal state of the object and protecting its integrity.\n",
        "\n",
        "**Abstraction**: Abstraction simplifies complex systems by modeling classes based on the essential properties and behaviors relevant to the context. It hides the unnecessary details and exposes only what is needed to the user, allowing for simpler and more efficient interaction.\n",
        "\n",
        "**Inheritance**: Inheritance allows a class to inherit properties and methods from another class.\n",
        "\n",
        "**Polymorphism**: Polymorphism allows objects of different classes to be treated as objects of a common superclass. It enables one interface to be used for a general class of actions, with specific actions determined at runtime\n",
        "\n",
        "**Class and Object**:\n",
        "\n",
        "Class is a blueprint for creating objects. It defines a data structure and methods that an object created from the class can use.\n",
        "Object is an instance of a class. It represents an entity that has attributes and behaviors defined by the class. Each object can interact with other objects and execute methods within its own context."
      ],
      "metadata": {
        "id": "NEHNMFrC1kst"
      }
    },
    {
      "cell_type": "markdown",
      "source": [
        "2. Write a Python class for a `Car` with attributes for `make`, `model`, and `year`. Include a method to display\n",
        "the car's information."
      ],
      "metadata": {
        "id": "vugcjpfB12Mt"
      }
    },
    {
      "cell_type": "code",
      "source": [
        "class Car:\n",
        "    def __init__(self, make, model, year):\n",
        "        self.make = make\n",
        "        self.model = model\n",
        "        self.year = year\n",
        "\n",
        "    def display_info(self):\n",
        "        print(f\"Car Information: {self.year} {self.make} {self.model}\")\n",
        "\n",
        "# Example of how to use the class\n",
        "my_car = Car(\"Toyota\", \"Corolla\", 2021)\n",
        "my_car.display_info()\n"
      ],
      "metadata": {
        "colab": {
          "base_uri": "https://localhost:8080/"
        },
        "id": "pb_3rKdQ1_GQ",
        "outputId": "37a51ce0-12f2-4aa2-ab3d-b01124ddcbf3"
      },
      "execution_count": null,
      "outputs": [
        {
          "output_type": "stream",
          "name": "stdout",
          "text": [
            "Car Information: 2021 Toyota Corolla\n"
          ]
        }
      ]
    },
    {
      "cell_type": "markdown",
      "source": [
        "3. Explain the difference between instance methods and class methods. Provide an example of each.\n",
        "\n",
        "Instance Methods:\n",
        "\n",
        "Belong to individual objects (instances) of a class.\n",
        "Can access and modify instance attributes, i.e., data unique to each instance.\n",
        "Require an instance of the class to be called.\n",
        "The first parameter of an instance method is always self, which refers to the instance itself.\n",
        "\n",
        "Class Methods:\n",
        "\n",
        "Belong to the class itself rather than instances of the class.\n",
        "They are marked with the @classmethod decorator.\n",
        "They can access class attributes but not instance attributes.\n",
        "The first parameter is cls, which refers to the class itself, not a specific instance."
      ],
      "metadata": {
        "id": "gGrSjlem2DE8"
      }
    },
    {
      "cell_type": "code",
      "source": [
        "class Car:\n",
        "    # Class attribute (shared by all instances)\n",
        "    vehicle_type = \"Automobile\"\n",
        "\n",
        "    def __init__(self, make, model, year):\n",
        "        # Instance attributes (unique to each instance)\n",
        "        self.make = make\n",
        "        self.model = model\n",
        "        self.year = year\n",
        "\n",
        "    # Instance method\n",
        "    def display_info(self):\n",
        "        print(f\"Instance Method: {self.year} {self.make} {self.model}\")\n",
        "\n",
        "    # Class method\n",
        "    @classmethod\n",
        "    def display_vehicle_type(cls):\n",
        "        print(f\"Class Method: Vehicle type is {cls.vehicle_type}\")\n",
        "\n",
        "# Example usage\n",
        "my_car = Car(\"Toyota\", \"Corolla\", 2021)\n",
        "\n",
        "# Calling an instance method\n",
        "my_car.display_info()\n",
        "\n",
        "# Calling a class method\n",
        "Car.display_vehicle_type()\n"
      ],
      "metadata": {
        "colab": {
          "base_uri": "https://localhost:8080/"
        },
        "id": "EjVe4bFw2uI8",
        "outputId": "aaa3be8c-c244-4a0c-bb07-9a933f7a08f2"
      },
      "execution_count": null,
      "outputs": [
        {
          "output_type": "stream",
          "name": "stdout",
          "text": [
            "Instance Method: 2021 Toyota Corolla\n",
            "Class Method: Vehicle type is Automobile\n"
          ]
        }
      ]
    },
    {
      "cell_type": "markdown",
      "source": [
        "4. How does Python implement method overloading? Give an example.\n",
        "\n",
        "Python doesn't support traditional method overloading (i.e, defining multiple methods with the same name but different signatures) like other languages such as Java or C++. Instead, Python uses default parameters, variable-length arguments (args, kwargs), or conditional logic within a single method to mimic the behavior of overloading.\n",
        "\n"
      ],
      "metadata": {
        "id": "6GoF9vam3B7c"
      }
    },
    {
      "cell_type": "code",
      "source": [
        "class Calculator:\n",
        "    def add(self, a, b=0, c=0):\n",
        "        return a + b + c\n",
        "\n",
        "calc = Calculator()\n",
        "print(calc.add(10))\n",
        "print(calc.add(10, 20))\n",
        "print(calc.add(10, 20, 30))\n"
      ],
      "metadata": {
        "colab": {
          "base_uri": "https://localhost:8080/"
        },
        "id": "xXbVl40D3suE",
        "outputId": "2696c604-9043-421d-edf8-0bef94d6abfc"
      },
      "execution_count": null,
      "outputs": [
        {
          "output_type": "stream",
          "name": "stdout",
          "text": [
            "10\n",
            "30\n",
            "60\n"
          ]
        }
      ]
    },
    {
      "cell_type": "markdown",
      "source": [
        "5. What are the three types of access modifiers in Python? How are they denoted?\n",
        "\n",
        "\n",
        "Public:\n",
        "\n",
        "Denoted by: No leading underscores (e.g.my_variable)\n",
        "Access: Public attributes and methods are accessible from both inside and outside the class. By default, all attributes and methods in Python are public.\n"
      ],
      "metadata": {
        "id": "9eGV8H7V3--z"
      }
    },
    {
      "cell_type": "code",
      "source": [
        "class MyClass:\n",
        "    def __init__(self):\n",
        "        self.public_var = \"I am public\"\n"
      ],
      "metadata": {
        "id": "h6IYo6oP4Qks"
      },
      "execution_count": null,
      "outputs": []
    },
    {
      "cell_type": "markdown",
      "source": [
        "Protected:\n",
        "\n",
        "Denoted by: A single leading underscore (e.g. _my_variable)\n",
        "Access: Protected attributes and methods are meant to be accessed within the class and its subclasses. However, they are still accessible from outside the class, but it's by convention that they should not be accessed directly"
      ],
      "metadata": {
        "id": "tf3sjJx94WFD"
      }
    },
    {
      "cell_type": "code",
      "source": [
        "class MyClass:\n",
        "    def __init__(self):\n",
        "        self._protected_var = \"I am protected\"\n"
      ],
      "metadata": {
        "id": "h-ghBDF64ZL8"
      },
      "execution_count": null,
      "outputs": []
    },
    {
      "cell_type": "markdown",
      "source": [
        "Private:\n",
        "\n",
        "Denoted by: Two leading underscores (e.g.__my_variable)\n",
        "Access: Private attributes and methods are intended to be accessed only within the class where they are defined. Python uses name mangling to make it harder to access private attributes directly from outside the class, though they can still be accessed indirectly.\n"
      ],
      "metadata": {
        "id": "51v2w5YI4fcU"
      }
    },
    {
      "cell_type": "code",
      "source": [
        "class MyClass:\n",
        "    def __init__(self):\n",
        "        self.__private_var = \"I am private\"\n"
      ],
      "metadata": {
        "id": "3ID9F_yJ4iRn"
      },
      "execution_count": null,
      "outputs": []
    },
    {
      "cell_type": "markdown",
      "source": [
        "6. Describe the five types of inheritance in Python. Provide a simple example of multiple inheritance.\n",
        "\n",
        "\n",
        "1. Single Inheritance:\n",
        "Involves one class inheriting from a single parent class.\n",
        "\n",
        "2. Multiple Inheritance:\n",
        "A class can inherit from more than one parent class, combining attributes and methods from all parents."
      ],
      "metadata": {
        "id": "jvXvBBuE4l3E"
      }
    },
    {
      "cell_type": "code",
      "source": [
        "class Engine:\n",
        "    def start(self):\n",
        "        return \"Engine started\"\n",
        "\n",
        "class Radio:\n",
        "    def play_music(self):\n",
        "        return \"Playing music\"\n",
        "\n",
        "class Car(Engine, Radio):\n",
        "    pass\n",
        "\n",
        "my_car = Car()\n",
        "print(my_car.start())\n",
        "print(my_car.play_music())\n"
      ],
      "metadata": {
        "colab": {
          "base_uri": "https://localhost:8080/"
        },
        "id": "4nozBVm65DQE",
        "outputId": "50bae5c9-e9e8-482e-c1c4-8e4a4100e502"
      },
      "execution_count": null,
      "outputs": [
        {
          "output_type": "stream",
          "name": "stdout",
          "text": [
            "Engine started\n",
            "Playing music\n"
          ]
        }
      ]
    },
    {
      "cell_type": "markdown",
      "source": [
        "3. Multilevel Inheritance:\n",
        "A chain of inheritance where a class is derived from another derived class.\n",
        "\n",
        "4. Hierarchical Inheritance:\n",
        "Multiple child classes inherit from the same parent class.\n",
        "\n",
        "5. Hybrid Inheritance:\n",
        "A combination of two or more types of inheritance, usually involving multiple and hierarchical inheritance."
      ],
      "metadata": {
        "id": "gQfV6EYV5LUF"
      }
    },
    {
      "cell_type": "markdown",
      "source": [
        "7. What is the Method Resolution Order (MRO) in Python? How can you retrieve it programmatically?\n",
        "\n",
        "The Method Resolution Order (MRO) defines the order in which Python looks for a method or attribute in a hierarchy of classes during inheritance. MRO is especially important in cases of multiple inheritance to avoid ambiguity and ensure a consistent method search path. Python uses the C3 Linearization (or C3 superclass linearization) algorithm to determine this order.\n",
        "\n",
        "MRO ensures that:\n",
        "\n",
        "A method is first searched in the current class.\n",
        "If not found, it proceeds to parent classes according to the inheritance order.\n",
        "It avoids inheritance conflicts in multiple inheritance scenarios."
      ],
      "metadata": {
        "id": "lfFVBAJY5YZ9"
      }
    },
    {
      "cell_type": "code",
      "source": [
        "class A:\n",
        "    pass\n",
        "\n",
        "class B(A):\n",
        "    pass\n",
        "\n",
        "class C(B):\n",
        "    pass\n",
        "\n",
        "print(C.__mro__)\n"
      ],
      "metadata": {
        "colab": {
          "base_uri": "https://localhost:8080/"
        },
        "id": "rEioMXKw5twe",
        "outputId": "8b6e4b6e-17db-406c-ff6c-d3456643f5f1"
      },
      "execution_count": null,
      "outputs": [
        {
          "output_type": "stream",
          "name": "stdout",
          "text": [
            "(<class '__main__.C'>, <class '__main__.B'>, <class '__main__.A'>, <class 'object'>)\n"
          ]
        }
      ]
    },
    {
      "cell_type": "code",
      "source": [
        "class A:\n",
        "    pass\n",
        "\n",
        "class B(A):\n",
        "    pass\n",
        "\n",
        "class C(B):\n",
        "    pass\n",
        "\n",
        "print(C.mro())\n"
      ],
      "metadata": {
        "colab": {
          "base_uri": "https://localhost:8080/"
        },
        "id": "8AD0abRp5wa8",
        "outputId": "5ff31087-d3b1-4160-fb6e-5773ad9e3e6d"
      },
      "execution_count": null,
      "outputs": [
        {
          "output_type": "stream",
          "name": "stdout",
          "text": [
            "[<class '__main__.C'>, <class '__main__.B'>, <class '__main__.A'>, <class 'object'>]\n"
          ]
        }
      ]
    },
    {
      "cell_type": "markdown",
      "source": [
        "8. Create an abstract base class `Shape` with an abstract method `area()`. Then create two subclasses\n",
        "`Circle` and `Rectangle` that implement the `area()` method."
      ],
      "metadata": {
        "id": "jlBeoxNr548k"
      }
    },
    {
      "cell_type": "code",
      "source": [
        "from abc import ABC, abstractmethod\n",
        "import math\n",
        "\n",
        "# Abstract base class\n",
        "class Shape(ABC):\n",
        "    @abstractmethod\n",
        "    def area(self):\n",
        "        pass\n",
        "\n",
        "# Subclass for Circle\n",
        "class Circle(Shape):\n",
        "    def __init__(self, radius):\n",
        "        self.radius = radius\n",
        "\n",
        "    def area(self):\n",
        "        return math.pi * (self.radius ** 2)\n",
        "\n",
        "# Subclass for Rectangle\n",
        "class Rectangle(Shape):\n",
        "    def __init__(self, width, height):\n",
        "        self.width = width\n",
        "        self.height = height\n",
        "\n",
        "    def area(self):\n",
        "        return self.width * self.height\n",
        "\n",
        "# Example usage\n",
        "circle = Circle(5)\n",
        "rectangle = Rectangle(4, 6)\n",
        "\n",
        "print(f\"Area of Circle: {circle.area():.2f}\")\n",
        "print(f\"Area of Rectangle: {rectangle.area()}\")\n"
      ],
      "metadata": {
        "colab": {
          "base_uri": "https://localhost:8080/"
        },
        "id": "T_55jnDw5_vl",
        "outputId": "9f1acab2-2759-47b0-a7bd-ed0b61ee054e"
      },
      "execution_count": null,
      "outputs": [
        {
          "output_type": "stream",
          "name": "stdout",
          "text": [
            "Area of Circle: 78.54\n",
            "Area of Rectangle: 24\n"
          ]
        }
      ]
    },
    {
      "cell_type": "markdown",
      "source": [
        "9. Demonstrate polymorphism by creating a function that can work with different shape objects to calculate\n",
        "and print their areas."
      ],
      "metadata": {
        "id": "W6xniqJZ6MQE"
      }
    },
    {
      "cell_type": "code",
      "source": [
        "from abc import ABC, abstractmethod\n",
        "import math\n",
        "\n",
        "# Abstract base class\n",
        "class Shape(ABC):\n",
        "    @abstractmethod\n",
        "    def area(self):\n",
        "        pass\n",
        "\n",
        "# Subclass for Circle\n",
        "class Circle(Shape):\n",
        "    def __init__(self, radius):\n",
        "        self.radius = radius\n",
        "\n",
        "    def area(self):\n",
        "        return math.pi * (self.radius ** 2)\n",
        "\n",
        "# Subclass for Rectangle\n",
        "class Rectangle(Shape):\n",
        "    def __init__(self, width, height):\n",
        "        self.width = width\n",
        "        self.height = height\n",
        "\n",
        "    def area(self):\n",
        "        return self.width * self.height\n",
        "\n",
        "# Function to calculate area\n",
        "def calculate_area(shape):\n",
        "    print(f\"Area: {shape.area():.2f}\")\n",
        "\n",
        "# Example usage\n",
        "circle = Circle(5)\n",
        "rectangle = Rectangle(4, 6)\n",
        "\n",
        "calculate_area(circle)\n",
        "calculate_area(rectangle)\n"
      ],
      "metadata": {
        "colab": {
          "base_uri": "https://localhost:8080/"
        },
        "id": "twAsXgtM6TnK",
        "outputId": "821bac07-4bf8-4429-83ec-6b71f9a79239"
      },
      "execution_count": null,
      "outputs": [
        {
          "output_type": "stream",
          "name": "stdout",
          "text": [
            "Area: 78.54\n",
            "Area: 24.00\n"
          ]
        }
      ]
    },
    {
      "cell_type": "markdown",
      "source": [
        "10. Implement encapsulation in a `BankAccount` class with private attributes for `balance` and\n",
        "`account_number`. Include methods for deposit, withdrawal, and balance inquiry"
      ],
      "metadata": {
        "id": "p_Zg4cJ06eqO"
      }
    },
    {
      "cell_type": "code",
      "source": [
        "class BankAccount:\n",
        "    def __init__(self, account_number):\n",
        "        self.__account_number = account_number  # Private attribute\n",
        "        self.__balance = 0  # Private attribute\n",
        "\n",
        "    def deposit(self, amount):\n",
        "        if amount > 0:\n",
        "            self.__balance += amount\n",
        "            print(f\"Deposited: ${amount:.2f}. New Balance: ${self.__balance:.2f}\")\n",
        "        else:\n",
        "            print(\"Deposit amount must be positive.\")\n",
        "\n",
        "    def withdraw(self, amount):\n",
        "        if 0 < amount <= self.__balance:\n",
        "            self.__balance -= amount\n",
        "            print(f\"Withdrew: ${amount:.2f}. New Balance: ${self.__balance:.2f}\")\n",
        "        else:\n",
        "            print(\"Withdrawal amount must be positive and less than or equal to the balance.\")\n",
        "\n",
        "    def get_balance(self):\n",
        "        return self.__balance\n",
        "\n",
        "    def get_account_number(self):\n",
        "        return self.__account_number\n",
        "\n",
        "# Example usage\n",
        "account = BankAccount(\"123456789\")\n",
        "account.deposit(1000)\n",
        "account.withdraw(250)\n",
        "print(f\"Current Balance: ${account.get_balance():.2f}\")\n",
        "print(f\"Account Number: {account.get_account_number()}\")\n"
      ],
      "metadata": {
        "colab": {
          "base_uri": "https://localhost:8080/"
        },
        "id": "qC7jWaQm6k91",
        "outputId": "f91f6bb2-022b-4dc1-e1f9-d78a8e11aac5"
      },
      "execution_count": null,
      "outputs": [
        {
          "output_type": "stream",
          "name": "stdout",
          "text": [
            "Deposited: $1000.00. New Balance: $1000.00\n",
            "Withdrew: $250.00. New Balance: $750.00\n",
            "Current Balance: $750.00\n",
            "Account Number: 123456789\n"
          ]
        }
      ]
    },
    {
      "cell_type": "markdown",
      "source": [
        "11. Write a class that overrides the `__str__` and `__add__` magic methods. What will these methods allow\n",
        "you to do?"
      ],
      "metadata": {
        "id": "z60_qFFK6z1T"
      }
    },
    {
      "cell_type": "code",
      "source": [
        "class Vector:\n",
        "    def __init__(self, x, y):\n",
        "        self.x = x\n",
        "        self.y = y\n",
        "\n",
        "    def __str__(self):\n",
        "        return f\"Vector({self.x}, {self.y})\"\n",
        "\n",
        "    def __add__(self, other):\n",
        "        if isinstance(other, Vector):\n",
        "            return Vector(self.x + other.x, self.y + other.y)\n",
        "        return NotImplemented\n",
        "\n",
        "# Example usage\n",
        "v1 = Vector(2, 3)\n",
        "v2 = Vector(5, 7)\n",
        "\n",
        "# Using __str__ method\n",
        "print(v1)\n",
        "\n",
        "# Using __add__ method\n",
        "v3 = v1 + v2\n",
        "print(v3)\n"
      ],
      "metadata": {
        "colab": {
          "base_uri": "https://localhost:8080/"
        },
        "id": "Ai9F-ju564f7",
        "outputId": "8b5617f9-3816-4a2b-aadf-76c64fadc19b"
      },
      "execution_count": null,
      "outputs": [
        {
          "output_type": "stream",
          "name": "stdout",
          "text": [
            "Vector(2, 3)\n",
            "Vector(7, 10)\n"
          ]
        }
      ]
    },
    {
      "cell_type": "markdown",
      "source": [
        "What These Methods Allow You to Do:\n",
        "__str__: Provides a user-friendly string representation of the object, making it easier to understand what the object represents when printed.\n",
        "__add__: Enables the use of the + operator to combine instances of the class in a meaningful way, allowing for intuitive mathematical operations on objects of that class."
      ],
      "metadata": {
        "id": "wa6AySqs7FY7"
      }
    },
    {
      "cell_type": "markdown",
      "source": [
        "12. Create a decorator that measures and prints the execution time of a function.\n",
        "\n",
        "\n"
      ],
      "metadata": {
        "id": "XzlYEz327Gb8"
      }
    },
    {
      "cell_type": "code",
      "source": [
        "import time\n",
        "\n",
        "def time_it(func):\n",
        "    def wrapper(*args, **kwargs):\n",
        "        start_time = time.time()  # Record the start time\n",
        "        result = func(*args, **kwargs)  # Call the original function\n",
        "        end_time = time.time()  # Record the end time\n",
        "        execution_time = end_time - start_time  # Calculate execution time\n",
        "        print(f\"Execution time of {func.__name__}: {execution_time:.4f} seconds\")\n",
        "        return result  # Return the result of the original function\n",
        "    return wrapper\n",
        "\n",
        "# Example usage\n",
        "@time_it\n",
        "def slow_function():\n",
        "    time.sleep(2)  # Simulate a slow function with a 2-second delay\n",
        "    return \"Function complete!\"\n",
        "\n",
        "result = slow_function()\n",
        "print(result)\n"
      ],
      "metadata": {
        "colab": {
          "base_uri": "https://localhost:8080/"
        },
        "id": "UH0mKbrn7OoU",
        "outputId": "454c2621-2ee2-472f-b7ce-a40026866ab0"
      },
      "execution_count": null,
      "outputs": [
        {
          "output_type": "stream",
          "name": "stdout",
          "text": [
            "Execution time of slow_function: 2.0021 seconds\n",
            "Function complete!\n"
          ]
        }
      ]
    },
    {
      "cell_type": "markdown",
      "source": [
        "13. Explain the concept of the Diamond Problem in multiple inheritance. How does Python resolve it?\n",
        "\n",
        "The Diamond Problem is a common issue that arises in multiple inheritance scenarios, particularly in object-oriented programming languages like Python. It occurs when a class inherits from two classes that have a common ancestor, leading to ambiguity about which parent class's methods or attributes should be used.\n",
        "\n",
        "**key points** :- on How Python Resolves the Diamond Problem:\n",
        "Method Resolution Order (MRO):\n",
        "\n",
        "Python defines a specific order in which classes are searched when looking for a method or attribute.\n",
        "The MRO can be viewed using the __mro__ attribute or the mro() method.\n",
        "Left-to-Right Depth-First Search:\n",
        "\n",
        "The MRO considers the order of inheritance from left to right and ensures that classes are not repeated.\n",
        "The algorithm prioritizes the order in which classes are defined to maintain a consistent resolution path"
      ],
      "metadata": {
        "id": "ULSfRxP97XGj"
      }
    },
    {
      "cell_type": "code",
      "source": [
        "class A:\n",
        "    def greet(self):\n",
        "        return \"Hello from A\"\n",
        "\n",
        "class B(A):\n",
        "    def greet(self):\n",
        "        return \"Hello from B\"\n",
        "\n",
        "class C(A):\n",
        "    def greet(self):\n",
        "        return \"Hello from C\"\n",
        "\n",
        "class D(B, C):\n",
        "    pass\n",
        "\n",
        "# Creating an instance of D\n",
        "d = D()\n",
        "print(d.greet())\n",
        "\n",
        "# Checking the Method Resolution Order\n",
        "print(D.mro())\n"
      ],
      "metadata": {
        "colab": {
          "base_uri": "https://localhost:8080/"
        },
        "id": "jxD5e0I-72Sz",
        "outputId": "89f9ae6d-5660-433c-992f-0b2be3397328"
      },
      "execution_count": null,
      "outputs": [
        {
          "output_type": "stream",
          "name": "stdout",
          "text": [
            "Hello from B\n",
            "[<class '__main__.D'>, <class '__main__.B'>, <class '__main__.C'>, <class '__main__.A'>, <class 'object'>]\n"
          ]
        }
      ]
    },
    {
      "cell_type": "markdown",
      "source": [
        "14. Write a class method that keeps track of the number of instances created from a class."
      ],
      "metadata": {
        "id": "VpnRoWnq8HaV"
      }
    },
    {
      "cell_type": "code",
      "source": [
        "class InstanceCounter:\n",
        "    instance_count = 0  # Class variable to keep track of the number of instances\n",
        "\n",
        "    def __init__(self):\n",
        "        InstanceCounter.instance_count += 1  # Increment count on every instance creation\n",
        "\n",
        "    @classmethod\n",
        "    def get_instance_count(cls):\n",
        "        return cls.instance_count  # Return the current count of instances\n",
        "\n",
        "# Example usage\n",
        "a = InstanceCounter()\n",
        "b = InstanceCounter()\n",
        "c = InstanceCounter()\n",
        "\n",
        "print(f\"Number of instances created: {InstanceCounter.get_instance_count()}\")\n"
      ],
      "metadata": {
        "colab": {
          "base_uri": "https://localhost:8080/"
        },
        "id": "OV8COene8NsF",
        "outputId": "79128a07-64eb-4983-a844-08f0e0033c04"
      },
      "execution_count": null,
      "outputs": [
        {
          "output_type": "stream",
          "name": "stdout",
          "text": [
            "Number of instances created: 3\n"
          ]
        }
      ]
    },
    {
      "cell_type": "markdown",
      "source": [
        "15. Implement a static method in a class that checks if a given year is a leap year."
      ],
      "metadata": {
        "id": "IjOgWKlU8USM"
      }
    },
    {
      "cell_type": "code",
      "source": [
        "class YearUtils:\n",
        "    @staticmethod\n",
        "    def is_leap_year(year):\n",
        "        \"\"\"Check if a given year is a leap year.\"\"\"\n",
        "        if (year % 4 == 0 and year % 100 != 0) or (year % 400 == 0):\n",
        "            return True\n",
        "        return False\n",
        "\n",
        "# Example usage\n",
        "year = 2024\n",
        "if YearUtils.is_leap_year(year):\n",
        "    print(f\"{year} is a leap year.\")\n",
        "else:\n",
        "    print(f\"{year} is not a leap year.\")\n",
        "\n",
        "year = 1900\n",
        "if YearUtils.is_leap_year(year):\n",
        "    print(f\"{year} is a leap year.\")\n",
        "else:\n",
        "    print(f\"{year} is not a leap year.\")\n",
        "\n",
        "year = 2000\n",
        "if YearUtils.is_leap_year(year):\n",
        "    print(f\"{year} is a leap year.\")\n",
        "else:\n",
        "    print(f\"{year} is not a leap year.\")\n"
      ],
      "metadata": {
        "colab": {
          "base_uri": "https://localhost:8080/"
        },
        "id": "3Ixm-aos8VSD",
        "outputId": "658e8ebc-f241-42b1-ed28-ab166c2c7613"
      },
      "execution_count": null,
      "outputs": [
        {
          "output_type": "stream",
          "name": "stdout",
          "text": [
            "2024 is a leap year.\n",
            "1900 is not a leap year.\n",
            "2000 is a leap year.\n"
          ]
        }
      ]
    }
  ]
}